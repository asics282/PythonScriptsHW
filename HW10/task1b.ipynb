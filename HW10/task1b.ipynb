{
 "cells": [
  {
   "cell_type": "markdown",
   "id": "0208994a",
   "metadata": {},
   "source": [
    "Дана функция: -5*x^2 + 10*x - 150\n",
    "\n",
    "Определить корни  \n",
    "Найти интервалы, на которых функция возрастает  \n",
    "Найти интервалы, на которых функция убывает  \n",
    "Построить график  \n",
    "Вычислить вершину  \n",
    "Определить промежутки, на котором f > 0  \n",
    "Определить промежутки, на котором f < 0  "
   ]
  },
  {
   "cell_type": "code",
   "execution_count": 8,
   "id": "9e09afc7",
   "metadata": {},
   "outputs": [],
   "source": [
    "from sympy import *"
   ]
  },
  {
   "cell_type": "code",
   "execution_count": 9,
   "id": "db9c0d3f",
   "metadata": {},
   "outputs": [],
   "source": [
    "x = Symbol('x')\n",
    "eq = -5*x**2 + 10*x - 150"
   ]
  },
  {
   "cell_type": "code",
   "execution_count": 10,
   "id": "8b2b6756",
   "metadata": {},
   "outputs": [
    {
     "data": {
      "image/png": "[encoded data removed]",
      "text/plain": [
       "<Figure size 432x288 with 1 Axes>"
      ]
     },
     "metadata": {
      "needs_background": "light"
     },
     "output_type": "display_data"
    },
    {
     "data": {
      "text/plain": [
       "<sympy.plotting.plot.Plot at 0x1e28357bca0>"
      ]
     },
     "execution_count": 10,
     "metadata": {},
     "output_type": "execute_result"
    }
   ],
   "source": [
    "# график функции\n",
    "plot(eq, (x,-10, 10), line_color='cyan')"
   ]
  },
  {
   "cell_type": "code",
   "execution_count": 16,
   "id": "b124152a",
   "metadata": {},
   "outputs": [
    {
     "name": "stdout",
     "output_type": "stream",
     "text": [
      "1 - sqrt(29)*I 1 + sqrt(29)*I\n"
     ]
    }
   ],
   "source": [
    "# нахождение корней\n",
    "y = solve(eq)\n",
    "x1=(y[0])\n",
    "x2=(y[1])\n",
    "print(x1, x2)"
   ]
  },
  {
   "cell_type": "code",
   "execution_count": 13,
   "id": "30c2a8d2",
   "metadata": {},
   "outputs": [
    {
     "data": {
      "text/plain": [
       "[1 - sqrt(29)*I, 1 + sqrt(29)*I]"
      ]
     },
     "execution_count": 13,
     "metadata": {},
     "output_type": "execute_result"
    }
   ],
   "source": [
    "# еще одно нахождение корней (похоже, что уравнение не имеет действительных корней)\n",
    "solve(eq, x)"
   ]
  },
  {
   "cell_type": "code",
   "execution_count": 23,
   "id": "0c1f9fbd",
   "metadata": {},
   "outputs": [],
   "source": [
    "# нахождение производной\n",
    "dif = diff(eq)"
   ]
  },
  {
   "cell_type": "code",
   "execution_count": 24,
   "id": "e0236188",
   "metadata": {},
   "outputs": [
    {
     "data": {
      "text/latex": [
       "$\\displaystyle \\text{False}$"
      ],
      "text/plain": [
       "False"
      ]
     },
     "execution_count": 24,
     "metadata": {},
     "output_type": "execute_result"
    }
   ],
   "source": [
    "# промежуток возрастания функции\n",
    "solve(eq > 0)"
   ]
  },
  {
   "cell_type": "markdown",
   "id": "885e6a4f",
   "metadata": {},
   "source": [
    "оказывается функция не пересекает ось x"
   ]
  },
  {
   "cell_type": "code",
   "execution_count": 25,
   "id": "93fdc601",
   "metadata": {},
   "outputs": [
    {
     "data": {
      "text/latex": [
       "$\\displaystyle -\\infty < x \\wedge x < \\infty$"
      ],
      "text/plain": [
       "(-oo < x) & (x < oo)"
      ]
     },
     "execution_count": 25,
     "metadata": {},
     "output_type": "execute_result"
    }
   ],
   "source": [
    "# промежуток убывания функции\n",
    "solve(eq < 0)"
   ]
  },
  {
   "cell_type": "code",
   "execution_count": 26,
   "id": "5c0feff4",
   "metadata": {},
   "outputs": [
    {
     "data": {
      "text/plain": [
       "[1]"
      ]
     },
     "execution_count": 26,
     "metadata": {},
     "output_type": "execute_result"
    }
   ],
   "source": [
    "# нахождение экстремума\n",
    "solve(dif,x)"
   ]
  },
  {
   "cell_type": "code",
   "execution_count": 28,
   "id": "b3d927f3",
   "metadata": {},
   "outputs": [
    {
     "data": {
      "image/png": "[encoded data removed]",
      "text/plain": [
       "<Figure size 432x288 with 1 Axes>"
      ]
     },
     "metadata": {
      "needs_background": "light"
     },
     "output_type": "display_data"
    },
    {
     "data": {
      "text/plain": [
       "<sympy.plotting.plot.Plot at 0x1e2838d92b0>"
      ]
     },
     "execution_count": 28,
     "metadata": {},
     "output_type": "execute_result"
    }
   ],
   "source": [
    "# график производной, чтоб увидеть ее корень\n",
    "plot(dif, line_color='red')"
   ]
  },
  {
   "cell_type": "code",
   "execution_count": 30,
   "id": "a83dc72c",
   "metadata": {},
   "outputs": [
    {
     "data": {
      "text/latex": [
       "$\\displaystyle -\\infty < x \\wedge x < 1$"
      ],
      "text/plain": [
       "(-oo < x) & (x < 1)"
      ]
     },
     "execution_count": 30,
     "metadata": {},
     "output_type": "execute_result"
    }
   ],
   "source": [
    "# промежуток, на котором f > 0\n",
    "solve(diff(eq) > 0)"
   ]
  },
  {
   "cell_type": "code",
   "execution_count": 31,
   "id": "5980abcf",
   "metadata": {},
   "outputs": [
    {
     "data": {
      "text/latex": [
       "$\\displaystyle 1 < x \\wedge x < \\infty$"
      ],
      "text/plain": [
       "(1 < x) & (x < oo)"
      ]
     },
     "execution_count": 31,
     "metadata": {},
     "output_type": "execute_result"
    }
   ],
   "source": [
    "# промежуток, на котором f < 0\n",
    "solve(diff(eq) < 0)"
   ]
  },
  {
   "cell_type": "code",
   "execution_count": null,
   "id": "939c666e",
   "metadata": {},
   "outputs": [],
   "source": []
  }
 ],
 "metadata": {
  "kernelspec": {
   "display_name": "Python 3",
   "language": "python",
   "name": "python3"
  },
  "language_info": {
   "codemirror_mode": {
    "name": "ipython",
    "version": 3
   },
   "file_extension": ".py",
   "mimetype": "text/x-python",
   "name": "python",
   "nbconvert_exporter": "python",
   "pygments_lexer": "ipython3",
   "version": "3.10.9"
  },
  "vscode": {
   "interpreter": {
    "hash": "ce43b2348d4910f8d633730d65839ddbc160f5bc275e4816922c8bba0f91b8e2"
   }
  }
 },
 "nbformat": 4,
 "nbformat_minor": 5
}
